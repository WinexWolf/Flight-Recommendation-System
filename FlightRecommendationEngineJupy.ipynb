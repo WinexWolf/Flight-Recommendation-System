{
 "cells": [
  {
   "cell_type": "code",
   "execution_count": null,
   "metadata": {},
   "outputs": [],
   "source": [
    "import pandas as pd\n",
    "import numpy as np\n"
   ]
  },
  {
   "cell_type": "markdown",
   "metadata": {},
   "source": [
    "## Exploratory Data Analysis"
   ]
  },
  {
   "cell_type": "code",
   "execution_count": 202,
   "metadata": {
    "scrolled": true
   },
   "outputs": [
    {
     "data": {
      "text/html": [
       "<div>\n",
       "<style scoped>\n",
       "    .dataframe tbody tr th:only-of-type {\n",
       "        vertical-align: middle;\n",
       "    }\n",
       "\n",
       "    .dataframe tbody tr th {\n",
       "        vertical-align: top;\n",
       "    }\n",
       "\n",
       "    .dataframe thead th {\n",
       "        text-align: right;\n",
       "    }\n",
       "</style>\n",
       "<table border=\"1\" class=\"dataframe\">\n",
       "  <thead>\n",
       "    <tr style=\"text-align: right;\">\n",
       "      <th></th>\n",
       "      <th>Air_Service</th>\n",
       "      <th>About</th>\n",
       "      <th>Layover</th>\n",
       "      <th>Time_span</th>\n",
       "      <th>Cost</th>\n",
       "      <th>Flight_Date</th>\n",
       "      <th>Start</th>\n",
       "      <th>Stop</th>\n",
       "      <th>Take_off_time</th>\n",
       "      <th>Landing_time</th>\n",
       "    </tr>\n",
       "  </thead>\n",
       "  <tbody>\n",
       "    <tr>\n",
       "      <th>0</th>\n",
       "      <td>IndiGo</td>\n",
       "      <td>No info</td>\n",
       "      <td>non-stop</td>\n",
       "      <td>2h 50m</td>\n",
       "      <td>3897</td>\n",
       "      <td>24/03/2019</td>\n",
       "      <td>Banglore</td>\n",
       "      <td>New Delhi</td>\n",
       "      <td>22:20</td>\n",
       "      <td>2020-03-22 01:10:00</td>\n",
       "    </tr>\n",
       "    <tr>\n",
       "      <th>1</th>\n",
       "      <td>Air India</td>\n",
       "      <td>No info</td>\n",
       "      <td>2 stops</td>\n",
       "      <td>7h 25m</td>\n",
       "      <td>7662</td>\n",
       "      <td>1/05/2019</td>\n",
       "      <td>Kolkata</td>\n",
       "      <td>Banglore</td>\n",
       "      <td>05:50</td>\n",
       "      <td>13:15</td>\n",
       "    </tr>\n",
       "    <tr>\n",
       "      <th>2</th>\n",
       "      <td>Jet Airways</td>\n",
       "      <td>No info</td>\n",
       "      <td>2 stops</td>\n",
       "      <td>19h</td>\n",
       "      <td>13882</td>\n",
       "      <td>9/06/2019</td>\n",
       "      <td>Delhi</td>\n",
       "      <td>Cochin</td>\n",
       "      <td>09:25</td>\n",
       "      <td>04:25 10 Jun</td>\n",
       "    </tr>\n",
       "    <tr>\n",
       "      <th>3</th>\n",
       "      <td>IndiGo</td>\n",
       "      <td>No info</td>\n",
       "      <td>1 stop</td>\n",
       "      <td>5h 25m</td>\n",
       "      <td>6218</td>\n",
       "      <td>12/05/2019</td>\n",
       "      <td>Kolkata</td>\n",
       "      <td>Banglore</td>\n",
       "      <td>18:05</td>\n",
       "      <td>23:30</td>\n",
       "    </tr>\n",
       "    <tr>\n",
       "      <th>4</th>\n",
       "      <td>IndiGo</td>\n",
       "      <td>No info</td>\n",
       "      <td>1 stop</td>\n",
       "      <td>4h 45m</td>\n",
       "      <td>13302</td>\n",
       "      <td>01/03/2019</td>\n",
       "      <td>Banglore</td>\n",
       "      <td>New Delhi</td>\n",
       "      <td>16:50</td>\n",
       "      <td>21:35</td>\n",
       "    </tr>\n",
       "  </tbody>\n",
       "</table>\n",
       "</div>"
      ],
      "text/plain": [
       "   Air_Service    About   Layover Time_span   Cost Flight_Date     Start  \\\n",
       "0       IndiGo  No info  non-stop    2h 50m   3897  24/03/2019  Banglore   \n",
       "1    Air India  No info   2 stops    7h 25m   7662   1/05/2019   Kolkata   \n",
       "2  Jet Airways  No info   2 stops       19h  13882   9/06/2019     Delhi   \n",
       "3       IndiGo  No info    1 stop    5h 25m   6218  12/05/2019   Kolkata   \n",
       "4       IndiGo  No info    1 stop    4h 45m  13302  01/03/2019  Banglore   \n",
       "\n",
       "        Stop Take_off_time         Landing_time  \n",
       "0  New Delhi         22:20  2020-03-22 01:10:00  \n",
       "1   Banglore         05:50                13:15  \n",
       "2     Cochin         09:25         04:25 10 Jun  \n",
       "3   Banglore         18:05                23:30  \n",
       "4  New Delhi         16:50                21:35  "
      ]
     },
     "execution_count": 202,
     "metadata": {},
     "output_type": "execute_result"
    }
   ],
   "source": [
    "df=pd.read_excel(\"Data_Train.xlsx\")\n",
    "df.head()"
   ]
  },
  {
   "cell_type": "code",
   "execution_count": 203,
   "metadata": {},
   "outputs": [
    {
     "data": {
      "text/plain": [
       "<bound method DataFrame.info of        Air_Service    About   Layover Time_span   Cost Flight_Date     Start  \\\n",
       "0           IndiGo  No info  non-stop    2h 50m   3897  24/03/2019  Banglore   \n",
       "1        Air India  No info   2 stops    7h 25m   7662   1/05/2019   Kolkata   \n",
       "2      Jet Airways  No info   2 stops       19h  13882   9/06/2019     Delhi   \n",
       "3           IndiGo  No info    1 stop    5h 25m   6218  12/05/2019   Kolkata   \n",
       "4           IndiGo  No info    1 stop    4h 45m  13302  01/03/2019  Banglore   \n",
       "...            ...      ...       ...       ...    ...         ...       ...   \n",
       "10678     Air Asia  No info  non-stop    2h 30m   4107   9/04/2019   Kolkata   \n",
       "10679    Air India  No info  non-stop    2h 35m   4145  27/04/2019   Kolkata   \n",
       "10680  Jet Airways  No info  non-stop        3h   7229  27/04/2019  Banglore   \n",
       "10681      Vistara  No info  non-stop    2h 40m  12648  01/03/2019  Banglore   \n",
       "10682    Air India  No info   2 stops    8h 20m  11753   9/05/2019     Delhi   \n",
       "\n",
       "            Stop Take_off_time         Landing_time  \n",
       "0      New Delhi         22:20  2020-03-22 01:10:00  \n",
       "1       Banglore         05:50                13:15  \n",
       "2         Cochin         09:25         04:25 10 Jun  \n",
       "3       Banglore         18:05                23:30  \n",
       "4      New Delhi         16:50                21:35  \n",
       "...          ...           ...                  ...  \n",
       "10678   Banglore         19:55                22:25  \n",
       "10679   Banglore         20:45                23:20  \n",
       "10680      Delhi         08:20                11:20  \n",
       "10681  New Delhi         11:30                14:10  \n",
       "10682     Cochin         10:55                19:15  \n",
       "\n",
       "[10683 rows x 10 columns]>"
      ]
     },
     "execution_count": 203,
     "metadata": {},
     "output_type": "execute_result"
    }
   ],
   "source": [
    "df.info"
   ]
  },
  {
   "cell_type": "code",
   "execution_count": 204,
   "metadata": {},
   "outputs": [
    {
     "data": {
      "text/html": [
       "<div>\n",
       "<style scoped>\n",
       "    .dataframe tbody tr th:only-of-type {\n",
       "        vertical-align: middle;\n",
       "    }\n",
       "\n",
       "    .dataframe tbody tr th {\n",
       "        vertical-align: top;\n",
       "    }\n",
       "\n",
       "    .dataframe thead th {\n",
       "        text-align: right;\n",
       "    }\n",
       "</style>\n",
       "<table border=\"1\" class=\"dataframe\">\n",
       "  <thead>\n",
       "    <tr style=\"text-align: right;\">\n",
       "      <th></th>\n",
       "      <th>Cost</th>\n",
       "    </tr>\n",
       "  </thead>\n",
       "  <tbody>\n",
       "    <tr>\n",
       "      <th>count</th>\n",
       "      <td>10683.000000</td>\n",
       "    </tr>\n",
       "    <tr>\n",
       "      <th>mean</th>\n",
       "      <td>9087.064121</td>\n",
       "    </tr>\n",
       "    <tr>\n",
       "      <th>std</th>\n",
       "      <td>4611.359167</td>\n",
       "    </tr>\n",
       "    <tr>\n",
       "      <th>min</th>\n",
       "      <td>1759.000000</td>\n",
       "    </tr>\n",
       "    <tr>\n",
       "      <th>25%</th>\n",
       "      <td>5277.000000</td>\n",
       "    </tr>\n",
       "    <tr>\n",
       "      <th>50%</th>\n",
       "      <td>8372.000000</td>\n",
       "    </tr>\n",
       "    <tr>\n",
       "      <th>75%</th>\n",
       "      <td>12373.000000</td>\n",
       "    </tr>\n",
       "    <tr>\n",
       "      <th>max</th>\n",
       "      <td>79512.000000</td>\n",
       "    </tr>\n",
       "  </tbody>\n",
       "</table>\n",
       "</div>"
      ],
      "text/plain": [
       "               Cost\n",
       "count  10683.000000\n",
       "mean    9087.064121\n",
       "std     4611.359167\n",
       "min     1759.000000\n",
       "25%     5277.000000\n",
       "50%     8372.000000\n",
       "75%    12373.000000\n",
       "max    79512.000000"
      ]
     },
     "execution_count": 204,
     "metadata": {},
     "output_type": "execute_result"
    }
   ],
   "source": [
    "df.describe()"
   ]
  },
  {
   "cell_type": "code",
   "execution_count": 205,
   "metadata": {},
   "outputs": [
    {
     "data": {
      "text/html": [
       "<div>\n",
       "<style scoped>\n",
       "    .dataframe tbody tr th:only-of-type {\n",
       "        vertical-align: middle;\n",
       "    }\n",
       "\n",
       "    .dataframe tbody tr th {\n",
       "        vertical-align: top;\n",
       "    }\n",
       "\n",
       "    .dataframe thead th {\n",
       "        text-align: right;\n",
       "    }\n",
       "</style>\n",
       "<table border=\"1\" class=\"dataframe\">\n",
       "  <thead>\n",
       "    <tr style=\"text-align: right;\">\n",
       "      <th></th>\n",
       "      <th>Air_Service</th>\n",
       "      <th>About</th>\n",
       "      <th>Layover</th>\n",
       "      <th>Time_span</th>\n",
       "      <th>Cost</th>\n",
       "      <th>Flight_Date</th>\n",
       "      <th>Start</th>\n",
       "      <th>Stop</th>\n",
       "      <th>Take_off_time</th>\n",
       "      <th>Landing_time</th>\n",
       "    </tr>\n",
       "  </thead>\n",
       "  <tbody>\n",
       "    <tr>\n",
       "      <th>0</th>\n",
       "      <td>False</td>\n",
       "      <td>False</td>\n",
       "      <td>False</td>\n",
       "      <td>False</td>\n",
       "      <td>False</td>\n",
       "      <td>False</td>\n",
       "      <td>False</td>\n",
       "      <td>False</td>\n",
       "      <td>False</td>\n",
       "      <td>False</td>\n",
       "    </tr>\n",
       "    <tr>\n",
       "      <th>1</th>\n",
       "      <td>False</td>\n",
       "      <td>False</td>\n",
       "      <td>False</td>\n",
       "      <td>False</td>\n",
       "      <td>False</td>\n",
       "      <td>False</td>\n",
       "      <td>False</td>\n",
       "      <td>False</td>\n",
       "      <td>False</td>\n",
       "      <td>False</td>\n",
       "    </tr>\n",
       "    <tr>\n",
       "      <th>2</th>\n",
       "      <td>False</td>\n",
       "      <td>False</td>\n",
       "      <td>False</td>\n",
       "      <td>False</td>\n",
       "      <td>False</td>\n",
       "      <td>False</td>\n",
       "      <td>False</td>\n",
       "      <td>False</td>\n",
       "      <td>False</td>\n",
       "      <td>False</td>\n",
       "    </tr>\n",
       "    <tr>\n",
       "      <th>3</th>\n",
       "      <td>False</td>\n",
       "      <td>False</td>\n",
       "      <td>False</td>\n",
       "      <td>False</td>\n",
       "      <td>False</td>\n",
       "      <td>False</td>\n",
       "      <td>False</td>\n",
       "      <td>False</td>\n",
       "      <td>False</td>\n",
       "      <td>False</td>\n",
       "    </tr>\n",
       "    <tr>\n",
       "      <th>4</th>\n",
       "      <td>False</td>\n",
       "      <td>False</td>\n",
       "      <td>False</td>\n",
       "      <td>False</td>\n",
       "      <td>False</td>\n",
       "      <td>False</td>\n",
       "      <td>False</td>\n",
       "      <td>False</td>\n",
       "      <td>False</td>\n",
       "      <td>False</td>\n",
       "    </tr>\n",
       "    <tr>\n",
       "      <th>...</th>\n",
       "      <td>...</td>\n",
       "      <td>...</td>\n",
       "      <td>...</td>\n",
       "      <td>...</td>\n",
       "      <td>...</td>\n",
       "      <td>...</td>\n",
       "      <td>...</td>\n",
       "      <td>...</td>\n",
       "      <td>...</td>\n",
       "      <td>...</td>\n",
       "    </tr>\n",
       "    <tr>\n",
       "      <th>10678</th>\n",
       "      <td>False</td>\n",
       "      <td>False</td>\n",
       "      <td>False</td>\n",
       "      <td>False</td>\n",
       "      <td>False</td>\n",
       "      <td>False</td>\n",
       "      <td>False</td>\n",
       "      <td>False</td>\n",
       "      <td>False</td>\n",
       "      <td>False</td>\n",
       "    </tr>\n",
       "    <tr>\n",
       "      <th>10679</th>\n",
       "      <td>False</td>\n",
       "      <td>False</td>\n",
       "      <td>False</td>\n",
       "      <td>False</td>\n",
       "      <td>False</td>\n",
       "      <td>False</td>\n",
       "      <td>False</td>\n",
       "      <td>False</td>\n",
       "      <td>False</td>\n",
       "      <td>False</td>\n",
       "    </tr>\n",
       "    <tr>\n",
       "      <th>10680</th>\n",
       "      <td>False</td>\n",
       "      <td>False</td>\n",
       "      <td>False</td>\n",
       "      <td>False</td>\n",
       "      <td>False</td>\n",
       "      <td>False</td>\n",
       "      <td>False</td>\n",
       "      <td>False</td>\n",
       "      <td>False</td>\n",
       "      <td>False</td>\n",
       "    </tr>\n",
       "    <tr>\n",
       "      <th>10681</th>\n",
       "      <td>False</td>\n",
       "      <td>False</td>\n",
       "      <td>False</td>\n",
       "      <td>False</td>\n",
       "      <td>False</td>\n",
       "      <td>False</td>\n",
       "      <td>False</td>\n",
       "      <td>False</td>\n",
       "      <td>False</td>\n",
       "      <td>False</td>\n",
       "    </tr>\n",
       "    <tr>\n",
       "      <th>10682</th>\n",
       "      <td>False</td>\n",
       "      <td>False</td>\n",
       "      <td>False</td>\n",
       "      <td>False</td>\n",
       "      <td>False</td>\n",
       "      <td>False</td>\n",
       "      <td>False</td>\n",
       "      <td>False</td>\n",
       "      <td>False</td>\n",
       "      <td>False</td>\n",
       "    </tr>\n",
       "  </tbody>\n",
       "</table>\n",
       "<p>10683 rows × 10 columns</p>\n",
       "</div>"
      ],
      "text/plain": [
       "       Air_Service  About  Layover  Time_span   Cost  Flight_Date  Start  \\\n",
       "0            False  False    False      False  False        False  False   \n",
       "1            False  False    False      False  False        False  False   \n",
       "2            False  False    False      False  False        False  False   \n",
       "3            False  False    False      False  False        False  False   \n",
       "4            False  False    False      False  False        False  False   \n",
       "...            ...    ...      ...        ...    ...          ...    ...   \n",
       "10678        False  False    False      False  False        False  False   \n",
       "10679        False  False    False      False  False        False  False   \n",
       "10680        False  False    False      False  False        False  False   \n",
       "10681        False  False    False      False  False        False  False   \n",
       "10682        False  False    False      False  False        False  False   \n",
       "\n",
       "        Stop  Take_off_time  Landing_time  \n",
       "0      False          False         False  \n",
       "1      False          False         False  \n",
       "2      False          False         False  \n",
       "3      False          False         False  \n",
       "4      False          False         False  \n",
       "...      ...            ...           ...  \n",
       "10678  False          False         False  \n",
       "10679  False          False         False  \n",
       "10680  False          False         False  \n",
       "10681  False          False         False  \n",
       "10682  False          False         False  \n",
       "\n",
       "[10683 rows x 10 columns]"
      ]
     },
     "execution_count": 205,
     "metadata": {},
     "output_type": "execute_result"
    }
   ],
   "source": [
    "df.isnull()\n"
   ]
  },
  {
   "cell_type": "code",
   "execution_count": 206,
   "metadata": {},
   "outputs": [],
   "source": [
    "import matplotlib.pyplot as plt"
   ]
  },
  {
   "cell_type": "markdown",
   "metadata": {},
   "source": [
    "## Data Cleaning"
   ]
  },
  {
   "cell_type": "code",
   "execution_count": 215,
   "metadata": {},
   "outputs": [
    {
     "ename": "KeyError",
     "evalue": "'Landing_time'",
     "output_type": "error",
     "traceback": [
      "\u001b[1;31m---------------------------------------------------------------------------\u001b[0m",
      "\u001b[1;31mKeyError\u001b[0m                                  Traceback (most recent call last)",
      "\u001b[1;32m~\\anaconda3\\lib\\site-packages\\pandas\\core\\indexes\\base.py\u001b[0m in \u001b[0;36mget_loc\u001b[1;34m(self, key, method, tolerance)\u001b[0m\n\u001b[0;32m   2645\u001b[0m             \u001b[1;32mtry\u001b[0m\u001b[1;33m:\u001b[0m\u001b[1;33m\u001b[0m\u001b[1;33m\u001b[0m\u001b[0m\n\u001b[1;32m-> 2646\u001b[1;33m                 \u001b[1;32mreturn\u001b[0m \u001b[0mself\u001b[0m\u001b[1;33m.\u001b[0m\u001b[0m_engine\u001b[0m\u001b[1;33m.\u001b[0m\u001b[0mget_loc\u001b[0m\u001b[1;33m(\u001b[0m\u001b[0mkey\u001b[0m\u001b[1;33m)\u001b[0m\u001b[1;33m\u001b[0m\u001b[1;33m\u001b[0m\u001b[0m\n\u001b[0m\u001b[0;32m   2647\u001b[0m             \u001b[1;32mexcept\u001b[0m \u001b[0mKeyError\u001b[0m\u001b[1;33m:\u001b[0m\u001b[1;33m\u001b[0m\u001b[1;33m\u001b[0m\u001b[0m\n",
      "\u001b[1;32mpandas\\_libs\\index.pyx\u001b[0m in \u001b[0;36mpandas._libs.index.IndexEngine.get_loc\u001b[1;34m()\u001b[0m\n",
      "\u001b[1;32mpandas\\_libs\\index.pyx\u001b[0m in \u001b[0;36mpandas._libs.index.IndexEngine.get_loc\u001b[1;34m()\u001b[0m\n",
      "\u001b[1;32mpandas\\_libs\\hashtable_class_helper.pxi\u001b[0m in \u001b[0;36mpandas._libs.hashtable.PyObjectHashTable.get_item\u001b[1;34m()\u001b[0m\n",
      "\u001b[1;32mpandas\\_libs\\hashtable_class_helper.pxi\u001b[0m in \u001b[0;36mpandas._libs.hashtable.PyObjectHashTable.get_item\u001b[1;34m()\u001b[0m\n",
      "\u001b[1;31mKeyError\u001b[0m: 'Landing_time'",
      "\nDuring handling of the above exception, another exception occurred:\n",
      "\u001b[1;31mKeyError\u001b[0m                                  Traceback (most recent call last)",
      "\u001b[1;32m<ipython-input-215-27fabd210455>\u001b[0m in \u001b[0;36m<module>\u001b[1;34m\u001b[0m\n\u001b[1;32m----> 1\u001b[1;33m \u001b[1;32mdel\u001b[0m \u001b[0mdf\u001b[0m\u001b[1;33m[\u001b[0m\u001b[1;34m'Landing_time'\u001b[0m\u001b[1;33m]\u001b[0m\u001b[1;33m\u001b[0m\u001b[1;33m\u001b[0m\u001b[0m\n\u001b[0m\u001b[0;32m      2\u001b[0m \u001b[1;32mdel\u001b[0m \u001b[0mdf\u001b[0m\u001b[1;33m[\u001b[0m\u001b[1;34m'About'\u001b[0m\u001b[1;33m]\u001b[0m\u001b[1;33m\u001b[0m\u001b[1;33m\u001b[0m\u001b[0m\n",
      "\u001b[1;32m~\\anaconda3\\lib\\site-packages\\pandas\\core\\generic.py\u001b[0m in \u001b[0;36m__delitem__\u001b[1;34m(self, key)\u001b[0m\n\u001b[0;32m   3757\u001b[0m             \u001b[1;31m# there was no match, this call should raise the appropriate\u001b[0m\u001b[1;33m\u001b[0m\u001b[1;33m\u001b[0m\u001b[1;33m\u001b[0m\u001b[0m\n\u001b[0;32m   3758\u001b[0m             \u001b[1;31m# exception:\u001b[0m\u001b[1;33m\u001b[0m\u001b[1;33m\u001b[0m\u001b[1;33m\u001b[0m\u001b[0m\n\u001b[1;32m-> 3759\u001b[1;33m             \u001b[0mself\u001b[0m\u001b[1;33m.\u001b[0m\u001b[0m_data\u001b[0m\u001b[1;33m.\u001b[0m\u001b[0mdelete\u001b[0m\u001b[1;33m(\u001b[0m\u001b[0mkey\u001b[0m\u001b[1;33m)\u001b[0m\u001b[1;33m\u001b[0m\u001b[1;33m\u001b[0m\u001b[0m\n\u001b[0m\u001b[0;32m   3760\u001b[0m \u001b[1;33m\u001b[0m\u001b[0m\n\u001b[0;32m   3761\u001b[0m         \u001b[1;31m# delete from the caches\u001b[0m\u001b[1;33m\u001b[0m\u001b[1;33m\u001b[0m\u001b[1;33m\u001b[0m\u001b[0m\n",
      "\u001b[1;32m~\\anaconda3\\lib\\site-packages\\pandas\\core\\internals\\managers.py\u001b[0m in \u001b[0;36mdelete\u001b[1;34m(self, item)\u001b[0m\n\u001b[0;32m   1000\u001b[0m         \u001b[0mDelete\u001b[0m \u001b[0mselected\u001b[0m \u001b[0mitem\u001b[0m \u001b[1;33m(\u001b[0m\u001b[0mitems\u001b[0m \u001b[1;32mif\u001b[0m \u001b[0mnon\u001b[0m\u001b[1;33m-\u001b[0m\u001b[0munique\u001b[0m\u001b[1;33m)\u001b[0m \u001b[1;32min\u001b[0m\u001b[1;33m-\u001b[0m\u001b[0mplace\u001b[0m\u001b[1;33m.\u001b[0m\u001b[1;33m\u001b[0m\u001b[1;33m\u001b[0m\u001b[0m\n\u001b[0;32m   1001\u001b[0m         \"\"\"\n\u001b[1;32m-> 1002\u001b[1;33m         \u001b[0mindexer\u001b[0m \u001b[1;33m=\u001b[0m \u001b[0mself\u001b[0m\u001b[1;33m.\u001b[0m\u001b[0mitems\u001b[0m\u001b[1;33m.\u001b[0m\u001b[0mget_loc\u001b[0m\u001b[1;33m(\u001b[0m\u001b[0mitem\u001b[0m\u001b[1;33m)\u001b[0m\u001b[1;33m\u001b[0m\u001b[1;33m\u001b[0m\u001b[0m\n\u001b[0m\u001b[0;32m   1003\u001b[0m \u001b[1;33m\u001b[0m\u001b[0m\n\u001b[0;32m   1004\u001b[0m         \u001b[0mis_deleted\u001b[0m \u001b[1;33m=\u001b[0m \u001b[0mnp\u001b[0m\u001b[1;33m.\u001b[0m\u001b[0mzeros\u001b[0m\u001b[1;33m(\u001b[0m\u001b[0mself\u001b[0m\u001b[1;33m.\u001b[0m\u001b[0mshape\u001b[0m\u001b[1;33m[\u001b[0m\u001b[1;36m0\u001b[0m\u001b[1;33m]\u001b[0m\u001b[1;33m,\u001b[0m \u001b[0mdtype\u001b[0m\u001b[1;33m=\u001b[0m\u001b[0mnp\u001b[0m\u001b[1;33m.\u001b[0m\u001b[0mbool_\u001b[0m\u001b[1;33m)\u001b[0m\u001b[1;33m\u001b[0m\u001b[1;33m\u001b[0m\u001b[0m\n",
      "\u001b[1;32m~\\anaconda3\\lib\\site-packages\\pandas\\core\\indexes\\base.py\u001b[0m in \u001b[0;36mget_loc\u001b[1;34m(self, key, method, tolerance)\u001b[0m\n\u001b[0;32m   2646\u001b[0m                 \u001b[1;32mreturn\u001b[0m \u001b[0mself\u001b[0m\u001b[1;33m.\u001b[0m\u001b[0m_engine\u001b[0m\u001b[1;33m.\u001b[0m\u001b[0mget_loc\u001b[0m\u001b[1;33m(\u001b[0m\u001b[0mkey\u001b[0m\u001b[1;33m)\u001b[0m\u001b[1;33m\u001b[0m\u001b[1;33m\u001b[0m\u001b[0m\n\u001b[0;32m   2647\u001b[0m             \u001b[1;32mexcept\u001b[0m \u001b[0mKeyError\u001b[0m\u001b[1;33m:\u001b[0m\u001b[1;33m\u001b[0m\u001b[1;33m\u001b[0m\u001b[0m\n\u001b[1;32m-> 2648\u001b[1;33m                 \u001b[1;32mreturn\u001b[0m \u001b[0mself\u001b[0m\u001b[1;33m.\u001b[0m\u001b[0m_engine\u001b[0m\u001b[1;33m.\u001b[0m\u001b[0mget_loc\u001b[0m\u001b[1;33m(\u001b[0m\u001b[0mself\u001b[0m\u001b[1;33m.\u001b[0m\u001b[0m_maybe_cast_indexer\u001b[0m\u001b[1;33m(\u001b[0m\u001b[0mkey\u001b[0m\u001b[1;33m)\u001b[0m\u001b[1;33m)\u001b[0m\u001b[1;33m\u001b[0m\u001b[1;33m\u001b[0m\u001b[0m\n\u001b[0m\u001b[0;32m   2649\u001b[0m         \u001b[0mindexer\u001b[0m \u001b[1;33m=\u001b[0m \u001b[0mself\u001b[0m\u001b[1;33m.\u001b[0m\u001b[0mget_indexer\u001b[0m\u001b[1;33m(\u001b[0m\u001b[1;33m[\u001b[0m\u001b[0mkey\u001b[0m\u001b[1;33m]\u001b[0m\u001b[1;33m,\u001b[0m \u001b[0mmethod\u001b[0m\u001b[1;33m=\u001b[0m\u001b[0mmethod\u001b[0m\u001b[1;33m,\u001b[0m \u001b[0mtolerance\u001b[0m\u001b[1;33m=\u001b[0m\u001b[0mtolerance\u001b[0m\u001b[1;33m)\u001b[0m\u001b[1;33m\u001b[0m\u001b[1;33m\u001b[0m\u001b[0m\n\u001b[0;32m   2650\u001b[0m         \u001b[1;32mif\u001b[0m \u001b[0mindexer\u001b[0m\u001b[1;33m.\u001b[0m\u001b[0mndim\u001b[0m \u001b[1;33m>\u001b[0m \u001b[1;36m1\u001b[0m \u001b[1;32mor\u001b[0m \u001b[0mindexer\u001b[0m\u001b[1;33m.\u001b[0m\u001b[0msize\u001b[0m \u001b[1;33m>\u001b[0m \u001b[1;36m1\u001b[0m\u001b[1;33m:\u001b[0m\u001b[1;33m\u001b[0m\u001b[1;33m\u001b[0m\u001b[0m\n",
      "\u001b[1;32mpandas\\_libs\\index.pyx\u001b[0m in \u001b[0;36mpandas._libs.index.IndexEngine.get_loc\u001b[1;34m()\u001b[0m\n",
      "\u001b[1;32mpandas\\_libs\\index.pyx\u001b[0m in \u001b[0;36mpandas._libs.index.IndexEngine.get_loc\u001b[1;34m()\u001b[0m\n",
      "\u001b[1;32mpandas\\_libs\\hashtable_class_helper.pxi\u001b[0m in \u001b[0;36mpandas._libs.hashtable.PyObjectHashTable.get_item\u001b[1;34m()\u001b[0m\n",
      "\u001b[1;32mpandas\\_libs\\hashtable_class_helper.pxi\u001b[0m in \u001b[0;36mpandas._libs.hashtable.PyObjectHashTable.get_item\u001b[1;34m()\u001b[0m\n",
      "\u001b[1;31mKeyError\u001b[0m: 'Landing_time'"
     ]
    }
   ],
   "source": [
    "del df['Landing_time']"
   ]
  },
  {
   "cell_type": "code",
   "execution_count": 216,
   "metadata": {},
   "outputs": [],
   "source": [
    "del df['About']"
   ]
  },
  {
   "cell_type": "code",
   "execution_count": 217,
   "metadata": {},
   "outputs": [],
   "source": [
    "df = df.rename(columns={'Flight Date': 'Flight_Date'})\n"
   ]
  },
  {
   "cell_type": "code",
   "execution_count": 218,
   "metadata": {},
   "outputs": [],
   "source": [
    "df[\"Start\"] = df[\"Start\"].str.lower()\n",
    "df[\"Stop\"] = df[\"Stop\"].str.lower()"
   ]
  },
  {
   "cell_type": "markdown",
   "metadata": {},
   "source": [
    "# EDA"
   ]
  },
  {
   "cell_type": "markdown",
   "metadata": {},
   "source": [
    "## Data Dimension"
   ]
  },
  {
   "cell_type": "code",
   "execution_count": 219,
   "metadata": {},
   "outputs": [
    {
     "data": {
      "text/plain": [
       "(10683, 8)"
      ]
     },
     "execution_count": 219,
     "metadata": {},
     "output_type": "execute_result"
    }
   ],
   "source": [
    "df.shape"
   ]
  },
  {
   "cell_type": "markdown",
   "metadata": {},
   "source": [
    "## Check for missing/null values"
   ]
  },
  {
   "cell_type": "code",
   "execution_count": 220,
   "metadata": {},
   "outputs": [
    {
     "data": {
      "text/plain": [
       "Air_Service      0\n",
       "Layover          0\n",
       "Time_span        0\n",
       "Cost             0\n",
       "Flight_Date      0\n",
       "Start            0\n",
       "Stop             0\n",
       "Take_off_time    0\n",
       "dtype: int64"
      ]
     },
     "execution_count": 220,
     "metadata": {},
     "output_type": "execute_result"
    }
   ],
   "source": [
    "df.isnull().sum()"
   ]
  },
  {
   "cell_type": "markdown",
   "metadata": {},
   "source": [
    "## Replace missing values with NA"
   ]
  },
  {
   "cell_type": "code",
   "execution_count": 221,
   "metadata": {},
   "outputs": [],
   "source": [
    "df = df.fillna(\"NA\")"
   ]
  },
  {
   "cell_type": "markdown",
   "metadata": {},
   "source": [
    "## Check for missing/null values again"
   ]
  },
  {
   "cell_type": "code",
   "execution_count": 222,
   "metadata": {},
   "outputs": [
    {
     "data": {
      "text/plain": [
       "Air_Service      0\n",
       "Layover          0\n",
       "Time_span        0\n",
       "Cost             0\n",
       "Flight_Date      0\n",
       "Start            0\n",
       "Stop             0\n",
       "Take_off_time    0\n",
       "dtype: int64"
      ]
     },
     "execution_count": 222,
     "metadata": {},
     "output_type": "execute_result"
    }
   ],
   "source": [
    "df.isnull().sum()"
   ]
  },
  {
   "cell_type": "code",
   "execution_count": 223,
   "metadata": {},
   "outputs": [
    {
     "data": {
      "text/html": [
       "<div>\n",
       "<style scoped>\n",
       "    .dataframe tbody tr th:only-of-type {\n",
       "        vertical-align: middle;\n",
       "    }\n",
       "\n",
       "    .dataframe tbody tr th {\n",
       "        vertical-align: top;\n",
       "    }\n",
       "\n",
       "    .dataframe thead th {\n",
       "        text-align: right;\n",
       "    }\n",
       "</style>\n",
       "<table border=\"1\" class=\"dataframe\">\n",
       "  <thead>\n",
       "    <tr style=\"text-align: right;\">\n",
       "      <th></th>\n",
       "      <th>Air_Service</th>\n",
       "      <th>Layover</th>\n",
       "      <th>Time_span</th>\n",
       "      <th>Cost</th>\n",
       "      <th>Flight_Date</th>\n",
       "      <th>Start</th>\n",
       "      <th>Stop</th>\n",
       "      <th>Take_off_time</th>\n",
       "    </tr>\n",
       "  </thead>\n",
       "  <tbody>\n",
       "    <tr>\n",
       "      <th>0</th>\n",
       "      <td>IndiGo</td>\n",
       "      <td>non-stop</td>\n",
       "      <td>2h 50m</td>\n",
       "      <td>3897</td>\n",
       "      <td>24/03/2019</td>\n",
       "      <td>banglore</td>\n",
       "      <td>new delhi</td>\n",
       "      <td>22:20</td>\n",
       "    </tr>\n",
       "    <tr>\n",
       "      <th>1</th>\n",
       "      <td>Air India</td>\n",
       "      <td>2 stops</td>\n",
       "      <td>7h 25m</td>\n",
       "      <td>7662</td>\n",
       "      <td>1/05/2019</td>\n",
       "      <td>kolkata</td>\n",
       "      <td>banglore</td>\n",
       "      <td>05:50</td>\n",
       "    </tr>\n",
       "    <tr>\n",
       "      <th>2</th>\n",
       "      <td>Jet Airways</td>\n",
       "      <td>2 stops</td>\n",
       "      <td>19h</td>\n",
       "      <td>13882</td>\n",
       "      <td>9/06/2019</td>\n",
       "      <td>delhi</td>\n",
       "      <td>cochin</td>\n",
       "      <td>09:25</td>\n",
       "    </tr>\n",
       "    <tr>\n",
       "      <th>3</th>\n",
       "      <td>IndiGo</td>\n",
       "      <td>1 stop</td>\n",
       "      <td>5h 25m</td>\n",
       "      <td>6218</td>\n",
       "      <td>12/05/2019</td>\n",
       "      <td>kolkata</td>\n",
       "      <td>banglore</td>\n",
       "      <td>18:05</td>\n",
       "    </tr>\n",
       "    <tr>\n",
       "      <th>4</th>\n",
       "      <td>IndiGo</td>\n",
       "      <td>1 stop</td>\n",
       "      <td>4h 45m</td>\n",
       "      <td>13302</td>\n",
       "      <td>01/03/2019</td>\n",
       "      <td>banglore</td>\n",
       "      <td>new delhi</td>\n",
       "      <td>16:50</td>\n",
       "    </tr>\n",
       "    <tr>\n",
       "      <th>...</th>\n",
       "      <td>...</td>\n",
       "      <td>...</td>\n",
       "      <td>...</td>\n",
       "      <td>...</td>\n",
       "      <td>...</td>\n",
       "      <td>...</td>\n",
       "      <td>...</td>\n",
       "      <td>...</td>\n",
       "    </tr>\n",
       "    <tr>\n",
       "      <th>10678</th>\n",
       "      <td>Air Asia</td>\n",
       "      <td>non-stop</td>\n",
       "      <td>2h 30m</td>\n",
       "      <td>4107</td>\n",
       "      <td>9/04/2019</td>\n",
       "      <td>kolkata</td>\n",
       "      <td>banglore</td>\n",
       "      <td>19:55</td>\n",
       "    </tr>\n",
       "    <tr>\n",
       "      <th>10679</th>\n",
       "      <td>Air India</td>\n",
       "      <td>non-stop</td>\n",
       "      <td>2h 35m</td>\n",
       "      <td>4145</td>\n",
       "      <td>27/04/2019</td>\n",
       "      <td>kolkata</td>\n",
       "      <td>banglore</td>\n",
       "      <td>20:45</td>\n",
       "    </tr>\n",
       "    <tr>\n",
       "      <th>10680</th>\n",
       "      <td>Jet Airways</td>\n",
       "      <td>non-stop</td>\n",
       "      <td>3h</td>\n",
       "      <td>7229</td>\n",
       "      <td>27/04/2019</td>\n",
       "      <td>banglore</td>\n",
       "      <td>delhi</td>\n",
       "      <td>08:20</td>\n",
       "    </tr>\n",
       "    <tr>\n",
       "      <th>10681</th>\n",
       "      <td>Vistara</td>\n",
       "      <td>non-stop</td>\n",
       "      <td>2h 40m</td>\n",
       "      <td>12648</td>\n",
       "      <td>01/03/2019</td>\n",
       "      <td>banglore</td>\n",
       "      <td>new delhi</td>\n",
       "      <td>11:30</td>\n",
       "    </tr>\n",
       "    <tr>\n",
       "      <th>10682</th>\n",
       "      <td>Air India</td>\n",
       "      <td>2 stops</td>\n",
       "      <td>8h 20m</td>\n",
       "      <td>11753</td>\n",
       "      <td>9/05/2019</td>\n",
       "      <td>delhi</td>\n",
       "      <td>cochin</td>\n",
       "      <td>10:55</td>\n",
       "    </tr>\n",
       "  </tbody>\n",
       "</table>\n",
       "<p>10683 rows × 8 columns</p>\n",
       "</div>"
      ],
      "text/plain": [
       "       Air_Service   Layover Time_span   Cost Flight_Date     Start  \\\n",
       "0           IndiGo  non-stop    2h 50m   3897  24/03/2019  banglore   \n",
       "1        Air India   2 stops    7h 25m   7662   1/05/2019   kolkata   \n",
       "2      Jet Airways   2 stops       19h  13882   9/06/2019     delhi   \n",
       "3           IndiGo    1 stop    5h 25m   6218  12/05/2019   kolkata   \n",
       "4           IndiGo    1 stop    4h 45m  13302  01/03/2019  banglore   \n",
       "...            ...       ...       ...    ...         ...       ...   \n",
       "10678     Air Asia  non-stop    2h 30m   4107   9/04/2019   kolkata   \n",
       "10679    Air India  non-stop    2h 35m   4145  27/04/2019   kolkata   \n",
       "10680  Jet Airways  non-stop        3h   7229  27/04/2019  banglore   \n",
       "10681      Vistara  non-stop    2h 40m  12648  01/03/2019  banglore   \n",
       "10682    Air India   2 stops    8h 20m  11753   9/05/2019     delhi   \n",
       "\n",
       "            Stop Take_off_time  \n",
       "0      new delhi         22:20  \n",
       "1       banglore         05:50  \n",
       "2         cochin         09:25  \n",
       "3       banglore         18:05  \n",
       "4      new delhi         16:50  \n",
       "...          ...           ...  \n",
       "10678   banglore         19:55  \n",
       "10679   banglore         20:45  \n",
       "10680      delhi         08:20  \n",
       "10681  new delhi         11:30  \n",
       "10682     cochin         10:55  \n",
       "\n",
       "[10683 rows x 8 columns]"
      ]
     },
     "execution_count": 223,
     "metadata": {},
     "output_type": "execute_result"
    }
   ],
   "source": [
    "df"
   ]
  },
  {
   "cell_type": "markdown",
   "metadata": {},
   "source": [
    "## Analysis of datatypes in each column"
   ]
  },
  {
   "cell_type": "code",
   "execution_count": 224,
   "metadata": {},
   "outputs": [
    {
     "data": {
      "text/plain": [
       "Air_Service      object\n",
       "Layover          object\n",
       "Time_span        object\n",
       "Cost              int64\n",
       "Flight_Date      object\n",
       "Start            object\n",
       "Stop             object\n",
       "Take_off_time    object\n",
       "dtype: object"
      ]
     },
     "execution_count": 224,
     "metadata": {},
     "output_type": "execute_result"
    }
   ],
   "source": [
    "df.dtypes"
   ]
  },
  {
   "cell_type": "markdown",
   "metadata": {},
   "source": [
    "## Questions"
   ]
  },
  {
   "cell_type": "markdown",
   "metadata": {},
   "source": [
    "#1.What is the departure city, arrival city and departure date"
   ]
  },
  {
   "cell_type": "code",
   "execution_count": 16,
   "metadata": {},
   "outputs": [
    {
     "name": "stdout",
     "output_type": "stream",
     "text": [
      "Enter Departure Destination: delhi\n",
      "Enter Arrival Destination: cochin\n",
      "Enter departure date in the dd/mm/yyyy format: 9/06/2019\n",
      "\n",
      "\n",
      "User Details:\n",
      "Departure Arrival Departure Date\n",
      "delhi    cochin   9/06/2019\n"
     ]
    }
   ],
   "source": [
    "dep = input(\"Enter Departure Destination: \")\n",
    "arr = input(\"Enter Arrival Destination: \")\n",
    "date= input(\"Enter departure date in the dd/mm/yyyy format: \")\n",
    "\n",
    "print(\"\\n\")\n",
    "print(\"User Details:\")\n",
    "print(\"Departure\", \"Arrival\", \"Departure Date\")\n",
    "print(dep,\"  \",arr,\" \",date)"
   ]
  },
  {
   "cell_type": "code",
   "execution_count": 226,
   "metadata": {},
   "outputs": [],
   "source": [
    "dep=dep.lower()\n",
    "arr=arr.lower()\n",
    "\n",
    "df1=df[df.Flight_Date.isin([date])]\n",
    "df2=df1[df1.Start.isin([dep])]\n",
    "df3=df2[df2.Stop.isin([arr])]\n"
   ]
  },
  {
   "cell_type": "code",
   "execution_count": 247,
   "metadata": {},
   "outputs": [
    {
     "data": {
      "text/html": [
       "<div>\n",
       "<style scoped>\n",
       "    .dataframe tbody tr th:only-of-type {\n",
       "        vertical-align: middle;\n",
       "    }\n",
       "\n",
       "    .dataframe tbody tr th {\n",
       "        vertical-align: top;\n",
       "    }\n",
       "\n",
       "    .dataframe thead th {\n",
       "        text-align: right;\n",
       "    }\n",
       "</style>\n",
       "<table border=\"1\" class=\"dataframe\">\n",
       "  <thead>\n",
       "    <tr style=\"text-align: right;\">\n",
       "      <th></th>\n",
       "      <th>Air_Service</th>\n",
       "      <th>Layover</th>\n",
       "      <th>Time_span</th>\n",
       "      <th>Cost</th>\n",
       "      <th>Flight_Date</th>\n",
       "      <th>Start</th>\n",
       "      <th>Stop</th>\n",
       "      <th>Take_off_time</th>\n",
       "    </tr>\n",
       "  </thead>\n",
       "  <tbody>\n",
       "    <tr>\n",
       "      <th>8687</th>\n",
       "      <td>Vistara</td>\n",
       "      <td>0</td>\n",
       "      <td>190</td>\n",
       "      <td>6216</td>\n",
       "      <td>9/06/2019</td>\n",
       "      <td>delhi</td>\n",
       "      <td>cochin</td>\n",
       "      <td>14:40</td>\n",
       "    </tr>\n",
       "    <tr>\n",
       "      <th>1486</th>\n",
       "      <td>IndiGo</td>\n",
       "      <td>0</td>\n",
       "      <td>195</td>\n",
       "      <td>6015</td>\n",
       "      <td>9/06/2019</td>\n",
       "      <td>delhi</td>\n",
       "      <td>cochin</td>\n",
       "      <td>21:05</td>\n",
       "    </tr>\n",
       "    <tr>\n",
       "      <th>6152</th>\n",
       "      <td>Air India</td>\n",
       "      <td>0</td>\n",
       "      <td>180</td>\n",
       "      <td>6094</td>\n",
       "      <td>9/06/2019</td>\n",
       "      <td>delhi</td>\n",
       "      <td>cochin</td>\n",
       "      <td>14:10</td>\n",
       "    </tr>\n",
       "    <tr>\n",
       "      <th>3218</th>\n",
       "      <td>IndiGo</td>\n",
       "      <td>0</td>\n",
       "      <td>195</td>\n",
       "      <td>5601</td>\n",
       "      <td>9/06/2019</td>\n",
       "      <td>delhi</td>\n",
       "      <td>cochin</td>\n",
       "      <td>05:35</td>\n",
       "    </tr>\n",
       "    <tr>\n",
       "      <th>6414</th>\n",
       "      <td>Air India</td>\n",
       "      <td>0</td>\n",
       "      <td>185</td>\n",
       "      <td>8456</td>\n",
       "      <td>9/06/2019</td>\n",
       "      <td>delhi</td>\n",
       "      <td>cochin</td>\n",
       "      <td>18:05</td>\n",
       "    </tr>\n",
       "    <tr>\n",
       "      <th>...</th>\n",
       "      <td>...</td>\n",
       "      <td>...</td>\n",
       "      <td>...</td>\n",
       "      <td>...</td>\n",
       "      <td>...</td>\n",
       "      <td>...</td>\n",
       "      <td>...</td>\n",
       "      <td>...</td>\n",
       "    </tr>\n",
       "    <tr>\n",
       "      <th>8446</th>\n",
       "      <td>Jet Airways</td>\n",
       "      <td>2</td>\n",
       "      <td>29h 50m</td>\n",
       "      <td>13376</td>\n",
       "      <td>9/06/2019</td>\n",
       "      <td>delhi</td>\n",
       "      <td>cochin</td>\n",
       "      <td>06:45</td>\n",
       "    </tr>\n",
       "    <tr>\n",
       "      <th>1312</th>\n",
       "      <td>Jet Airways</td>\n",
       "      <td>2</td>\n",
       "      <td>29h 50m</td>\n",
       "      <td>13376</td>\n",
       "      <td>9/06/2019</td>\n",
       "      <td>delhi</td>\n",
       "      <td>cochin</td>\n",
       "      <td>06:45</td>\n",
       "    </tr>\n",
       "    <tr>\n",
       "      <th>7439</th>\n",
       "      <td>Air India</td>\n",
       "      <td>2</td>\n",
       "      <td>30h 20m</td>\n",
       "      <td>12436</td>\n",
       "      <td>9/06/2019</td>\n",
       "      <td>delhi</td>\n",
       "      <td>cochin</td>\n",
       "      <td>12:55</td>\n",
       "    </tr>\n",
       "    <tr>\n",
       "      <th>1346</th>\n",
       "      <td>Air India</td>\n",
       "      <td>2</td>\n",
       "      <td>37h 20m</td>\n",
       "      <td>10493</td>\n",
       "      <td>9/06/2019</td>\n",
       "      <td>delhi</td>\n",
       "      <td>cochin</td>\n",
       "      <td>05:55</td>\n",
       "    </tr>\n",
       "    <tr>\n",
       "      <th>8127</th>\n",
       "      <td>Air India</td>\n",
       "      <td>2</td>\n",
       "      <td>38h 15m</td>\n",
       "      <td>9968</td>\n",
       "      <td>9/06/2019</td>\n",
       "      <td>delhi</td>\n",
       "      <td>cochin</td>\n",
       "      <td>05:00</td>\n",
       "    </tr>\n",
       "  </tbody>\n",
       "</table>\n",
       "<p>228 rows × 8 columns</p>\n",
       "</div>"
      ],
      "text/plain": [
       "      Air_Service Layover Time_span   Cost Flight_Date  Start    Stop  \\\n",
       "8687      Vistara       0       190   6216   9/06/2019  delhi  cochin   \n",
       "1486       IndiGo       0       195   6015   9/06/2019  delhi  cochin   \n",
       "6152    Air India       0       180   6094   9/06/2019  delhi  cochin   \n",
       "3218       IndiGo       0       195   5601   9/06/2019  delhi  cochin   \n",
       "6414    Air India       0       185   8456   9/06/2019  delhi  cochin   \n",
       "...           ...     ...       ...    ...         ...    ...     ...   \n",
       "8446  Jet Airways       2   29h 50m  13376   9/06/2019  delhi  cochin   \n",
       "1312  Jet Airways       2   29h 50m  13376   9/06/2019  delhi  cochin   \n",
       "7439    Air India       2   30h 20m  12436   9/06/2019  delhi  cochin   \n",
       "1346    Air India       2   37h 20m  10493   9/06/2019  delhi  cochin   \n",
       "8127    Air India       2   38h 15m   9968   9/06/2019  delhi  cochin   \n",
       "\n",
       "     Take_off_time  \n",
       "8687         14:40  \n",
       "1486         21:05  \n",
       "6152         14:10  \n",
       "3218         05:35  \n",
       "6414         18:05  \n",
       "...            ...  \n",
       "8446         06:45  \n",
       "1312         06:45  \n",
       "7439         12:55  \n",
       "1346         05:55  \n",
       "8127         05:00  \n",
       "\n",
       "[228 rows x 8 columns]"
      ]
     },
     "execution_count": 247,
     "metadata": {},
     "output_type": "execute_result"
    }
   ],
   "source": [
    "df3['Layover'] = np.where((df3.Layover == \"non-stop\"),0,df3.Layover)\n",
    "df3['Layover'] = np.where((df3.Layover == \"1 stop\"),1,df3.Layover)\n",
    "df3['Layover'] = np.where((df3.Layover == \"2 stops\"),2,df3.Layover)\n",
    "df3"
   ]
  },
  {
   "cell_type": "markdown",
   "metadata": {},
   "source": [
    "#2. Which of them has the smallest time span? (Sort in ascending order and then print  5 shortest spans)"
   ]
  },
  {
   "cell_type": "code",
   "execution_count": 248,
   "metadata": {},
   "outputs": [
    {
     "name": "stderr",
     "output_type": "stream",
     "text": [
      "<ipython-input-248-20957dd1fbda>:7: SettingWithCopyWarning: \n",
      "A value is trying to be set on a copy of a slice from a DataFrame.\n",
      "Try using .loc[row_indexer,col_indexer] = value instead\n",
      "\n",
      "See the caveats in the documentation: https://pandas.pydata.org/pandas-docs/stable/user_guide/indexing.html#returning-a-view-versus-a-copy\n",
      "  ddf3['Time_span'] = np.where((ddf3.Time_span == '3h'),180,ddf3.Time_span)\n",
      "<ipython-input-248-20957dd1fbda>:8: SettingWithCopyWarning: \n",
      "A value is trying to be set on a copy of a slice from a DataFrame.\n",
      "Try using .loc[row_indexer,col_indexer] = value instead\n",
      "\n",
      "See the caveats in the documentation: https://pandas.pydata.org/pandas-docs/stable/user_guide/indexing.html#returning-a-view-versus-a-copy\n",
      "  ddf3['Time_span'] = np.where((ddf3.Time_span == '3h 5m'),185,ddf3.Time_span)\n",
      "<ipython-input-248-20957dd1fbda>:9: SettingWithCopyWarning: \n",
      "A value is trying to be set on a copy of a slice from a DataFrame.\n",
      "Try using .loc[row_indexer,col_indexer] = value instead\n",
      "\n",
      "See the caveats in the documentation: https://pandas.pydata.org/pandas-docs/stable/user_guide/indexing.html#returning-a-view-versus-a-copy\n",
      "  ddf3['Time_span'] = np.where((ddf3.Time_span == '3h 10m'),190,ddf3.Time_span)\n",
      "<ipython-input-248-20957dd1fbda>:10: SettingWithCopyWarning: \n",
      "A value is trying to be set on a copy of a slice from a DataFrame.\n",
      "Try using .loc[row_indexer,col_indexer] = value instead\n",
      "\n",
      "See the caveats in the documentation: https://pandas.pydata.org/pandas-docs/stable/user_guide/indexing.html#returning-a-view-versus-a-copy\n",
      "  ddf3['Time_span'] = np.where((ddf3.Time_span == '3h 15m'),195,ddf3.Time_span)\n"
     ]
    }
   ],
   "source": [
    "df3['sort'] = df['Time_span'].str.extract('(\\d+)', expand=False).astype(int)\n",
    "df3.sort_values('sort',inplace=True, ascending=True)\n",
    "df3 = df3.drop('sort', axis=1)\n",
    "\n",
    "ddf3=df3.iloc[0:5]\n",
    "\n",
    "ddf3['Time_span'] = np.where((ddf3.Time_span == '3h'),180,ddf3.Time_span)\n",
    "ddf3['Time_span'] = np.where((ddf3.Time_span == '3h 5m'),185,ddf3.Time_span)\n",
    "ddf3['Time_span'] = np.where((ddf3.Time_span == '3h 10m'),190,ddf3.Time_span)\n",
    "ddf3['Time_span'] = np.where((ddf3.Time_span == '3h 15m'),195,ddf3.Time_span)\n",
    "\n",
    "ddf3=ddf3.sort_values(by='Time_span', ascending=1)\n",
    "\n",
    "\n"
   ]
  },
  {
   "cell_type": "code",
   "execution_count": 249,
   "metadata": {},
   "outputs": [
    {
     "name": "stderr",
     "output_type": "stream",
     "text": [
      "<ipython-input-249-de2635cd0f4e>:5: SettingWithCopyWarning: \n",
      "A value is trying to be set on a copy of a slice from a DataFrame.\n",
      "Try using .loc[row_indexer,col_indexer] = value instead\n",
      "\n",
      "See the caveats in the documentation: https://pandas.pydata.org/pandas-docs/stable/user_guide/indexing.html#returning-a-view-versus-a-copy\n",
      "  ddf4['Time_span'] = np.where((ddf4.Time_span == '4h 35m'),275,ddf4.Time_span)\n",
      "<ipython-input-249-de2635cd0f4e>:6: SettingWithCopyWarning: \n",
      "A value is trying to be set on a copy of a slice from a DataFrame.\n",
      "Try using .loc[row_indexer,col_indexer] = value instead\n",
      "\n",
      "See the caveats in the documentation: https://pandas.pydata.org/pandas-docs/stable/user_guide/indexing.html#returning-a-view-versus-a-copy\n",
      "  ddf4['Time_span'] = np.where((ddf4.Time_span == '4h 30m'),270,ddf4.Time_span)\n",
      "<ipython-input-249-de2635cd0f4e>:7: SettingWithCopyWarning: \n",
      "A value is trying to be set on a copy of a slice from a DataFrame.\n",
      "Try using .loc[row_indexer,col_indexer] = value instead\n",
      "\n",
      "See the caveats in the documentation: https://pandas.pydata.org/pandas-docs/stable/user_guide/indexing.html#returning-a-view-versus-a-copy\n",
      "  ddf4['Time_span'] = np.where((ddf4.Time_span == '7h 40m'),460,ddf4.Time_span)\n",
      "<ipython-input-249-de2635cd0f4e>:8: SettingWithCopyWarning: \n",
      "A value is trying to be set on a copy of a slice from a DataFrame.\n",
      "Try using .loc[row_indexer,col_indexer] = value instead\n",
      "\n",
      "See the caveats in the documentation: https://pandas.pydata.org/pandas-docs/stable/user_guide/indexing.html#returning-a-view-versus-a-copy\n",
      "  ddf4['Time_span'] = np.where((ddf4.Time_span == '9h'),540,ddf4.Time_span)\n"
     ]
    },
    {
     "data": {
      "text/html": [
       "<div>\n",
       "<style scoped>\n",
       "    .dataframe tbody tr th:only-of-type {\n",
       "        vertical-align: middle;\n",
       "    }\n",
       "\n",
       "    .dataframe tbody tr th {\n",
       "        vertical-align: top;\n",
       "    }\n",
       "\n",
       "    .dataframe thead th {\n",
       "        text-align: right;\n",
       "    }\n",
       "</style>\n",
       "<table border=\"1\" class=\"dataframe\">\n",
       "  <thead>\n",
       "    <tr style=\"text-align: right;\">\n",
       "      <th></th>\n",
       "      <th>Air_Service</th>\n",
       "      <th>Layover</th>\n",
       "      <th>Time_span</th>\n",
       "      <th>Cost</th>\n",
       "      <th>Flight_Date</th>\n",
       "      <th>Start</th>\n",
       "      <th>Stop</th>\n",
       "      <th>Take_off_time</th>\n",
       "    </tr>\n",
       "  </thead>\n",
       "  <tbody>\n",
       "    <tr>\n",
       "      <th>3360</th>\n",
       "      <td>IndiGo</td>\n",
       "      <td>1</td>\n",
       "      <td>275</td>\n",
       "      <td>5054</td>\n",
       "      <td>9/06/2019</td>\n",
       "      <td>delhi</td>\n",
       "      <td>cochin</td>\n",
       "      <td>07:35</td>\n",
       "    </tr>\n",
       "    <tr>\n",
       "      <th>6713</th>\n",
       "      <td>SpiceJet</td>\n",
       "      <td>1</td>\n",
       "      <td>270</td>\n",
       "      <td>5158</td>\n",
       "      <td>9/06/2019</td>\n",
       "      <td>delhi</td>\n",
       "      <td>cochin</td>\n",
       "      <td>08:45</td>\n",
       "    </tr>\n",
       "    <tr>\n",
       "      <th>8886</th>\n",
       "      <td>GoAir</td>\n",
       "      <td>1</td>\n",
       "      <td>460</td>\n",
       "      <td>5199</td>\n",
       "      <td>9/06/2019</td>\n",
       "      <td>delhi</td>\n",
       "      <td>cochin</td>\n",
       "      <td>05:55</td>\n",
       "    </tr>\n",
       "    <tr>\n",
       "      <th>9202</th>\n",
       "      <td>SpiceJet</td>\n",
       "      <td>1</td>\n",
       "      <td>270</td>\n",
       "      <td>5264</td>\n",
       "      <td>9/06/2019</td>\n",
       "      <td>delhi</td>\n",
       "      <td>cochin</td>\n",
       "      <td>08:45</td>\n",
       "    </tr>\n",
       "    <tr>\n",
       "      <th>5184</th>\n",
       "      <td>GoAir</td>\n",
       "      <td>1</td>\n",
       "      <td>540</td>\n",
       "      <td>5281</td>\n",
       "      <td>9/06/2019</td>\n",
       "      <td>delhi</td>\n",
       "      <td>cochin</td>\n",
       "      <td>10:35</td>\n",
       "    </tr>\n",
       "  </tbody>\n",
       "</table>\n",
       "</div>"
      ],
      "text/plain": [
       "     Air_Service Layover Time_span  Cost Flight_Date  Start    Stop  \\\n",
       "3360      IndiGo       1       275  5054   9/06/2019  delhi  cochin   \n",
       "6713    SpiceJet       1       270  5158   9/06/2019  delhi  cochin   \n",
       "8886       GoAir       1       460  5199   9/06/2019  delhi  cochin   \n",
       "9202    SpiceJet       1       270  5264   9/06/2019  delhi  cochin   \n",
       "5184       GoAir       1       540  5281   9/06/2019  delhi  cochin   \n",
       "\n",
       "     Take_off_time  \n",
       "3360         07:35  \n",
       "6713         08:45  \n",
       "8886         05:55  \n",
       "9202         08:45  \n",
       "5184         10:35  "
      ]
     },
     "execution_count": 249,
     "metadata": {},
     "output_type": "execute_result"
    }
   ],
   "source": [
    "df4=df3.sort_values(by='Cost', ascending=1)\n",
    "\n",
    "ddf4=df4.iloc[0:5]\n",
    "\n",
    "ddf4['Time_span'] = np.where((ddf4.Time_span == '4h 35m'),275,ddf4.Time_span)\n",
    "ddf4['Time_span'] = np.where((ddf4.Time_span == '4h 30m'),270,ddf4.Time_span)\n",
    "ddf4['Time_span'] = np.where((ddf4.Time_span == '7h 40m'),460,ddf4.Time_span)\n",
    "ddf4['Time_span'] = np.where((ddf4.Time_span == '9h'),540,ddf4.Time_span)\n",
    "\n",
    "ddf4\n"
   ]
  },
  {
   "cell_type": "markdown",
   "metadata": {},
   "source": [
    "##Test-Data Details"
   ]
  },
  {
   "cell_type": "code",
   "execution_count": 250,
   "metadata": {
    "scrolled": true
   },
   "outputs": [
    {
     "data": {
      "text/html": [
       "<div>\n",
       "<style scoped>\n",
       "    .dataframe tbody tr th:only-of-type {\n",
       "        vertical-align: middle;\n",
       "    }\n",
       "\n",
       "    .dataframe tbody tr th {\n",
       "        vertical-align: top;\n",
       "    }\n",
       "\n",
       "    .dataframe thead th {\n",
       "        text-align: right;\n",
       "    }\n",
       "</style>\n",
       "<table border=\"1\" class=\"dataframe\">\n",
       "  <thead>\n",
       "    <tr style=\"text-align: right;\">\n",
       "      <th></th>\n",
       "      <th>Cost</th>\n",
       "    </tr>\n",
       "  </thead>\n",
       "  <tbody>\n",
       "    <tr>\n",
       "      <th>count</th>\n",
       "      <td>10.000000</td>\n",
       "    </tr>\n",
       "    <tr>\n",
       "      <th>mean</th>\n",
       "      <td>5833.800000</td>\n",
       "    </tr>\n",
       "    <tr>\n",
       "      <th>std</th>\n",
       "      <td>1015.150104</td>\n",
       "    </tr>\n",
       "    <tr>\n",
       "      <th>min</th>\n",
       "      <td>5054.000000</td>\n",
       "    </tr>\n",
       "    <tr>\n",
       "      <th>25%</th>\n",
       "      <td>5215.250000</td>\n",
       "    </tr>\n",
       "    <tr>\n",
       "      <th>50%</th>\n",
       "      <td>5441.000000</td>\n",
       "    </tr>\n",
       "    <tr>\n",
       "      <th>75%</th>\n",
       "      <td>6074.250000</td>\n",
       "    </tr>\n",
       "    <tr>\n",
       "      <th>max</th>\n",
       "      <td>8456.000000</td>\n",
       "    </tr>\n",
       "  </tbody>\n",
       "</table>\n",
       "</div>"
      ],
      "text/plain": [
       "              Cost\n",
       "count    10.000000\n",
       "mean   5833.800000\n",
       "std    1015.150104\n",
       "min    5054.000000\n",
       "25%    5215.250000\n",
       "50%    5441.000000\n",
       "75%    6074.250000\n",
       "max    8456.000000"
      ]
     },
     "execution_count": 250,
     "metadata": {},
     "output_type": "execute_result"
    }
   ],
   "source": [
    "df5 = pd.concat([ddf3, ddf4])\n",
    "df5.describe()\n",
    "\n"
   ]
  },
  {
   "cell_type": "markdown",
   "metadata": {},
   "source": [
    "##Test Data Table"
   ]
  },
  {
   "cell_type": "code",
   "execution_count": 251,
   "metadata": {},
   "outputs": [
    {
     "data": {
      "text/html": [
       "<div>\n",
       "<style scoped>\n",
       "    .dataframe tbody tr th:only-of-type {\n",
       "        vertical-align: middle;\n",
       "    }\n",
       "\n",
       "    .dataframe tbody tr th {\n",
       "        vertical-align: top;\n",
       "    }\n",
       "\n",
       "    .dataframe thead th {\n",
       "        text-align: right;\n",
       "    }\n",
       "</style>\n",
       "<table border=\"1\" class=\"dataframe\">\n",
       "  <thead>\n",
       "    <tr style=\"text-align: right;\">\n",
       "      <th></th>\n",
       "      <th>Air_Service</th>\n",
       "      <th>Layover</th>\n",
       "      <th>Time_span</th>\n",
       "      <th>Cost</th>\n",
       "      <th>Flight_Date</th>\n",
       "      <th>Start</th>\n",
       "      <th>Stop</th>\n",
       "      <th>Take_off_time</th>\n",
       "    </tr>\n",
       "  </thead>\n",
       "  <tbody>\n",
       "    <tr>\n",
       "      <th>6152</th>\n",
       "      <td>Air India</td>\n",
       "      <td>0</td>\n",
       "      <td>180</td>\n",
       "      <td>6094</td>\n",
       "      <td>9/06/2019</td>\n",
       "      <td>delhi</td>\n",
       "      <td>cochin</td>\n",
       "      <td>14:10</td>\n",
       "    </tr>\n",
       "    <tr>\n",
       "      <th>6414</th>\n",
       "      <td>Air India</td>\n",
       "      <td>0</td>\n",
       "      <td>185</td>\n",
       "      <td>8456</td>\n",
       "      <td>9/06/2019</td>\n",
       "      <td>delhi</td>\n",
       "      <td>cochin</td>\n",
       "      <td>18:05</td>\n",
       "    </tr>\n",
       "    <tr>\n",
       "      <th>8687</th>\n",
       "      <td>Vistara</td>\n",
       "      <td>0</td>\n",
       "      <td>190</td>\n",
       "      <td>6216</td>\n",
       "      <td>9/06/2019</td>\n",
       "      <td>delhi</td>\n",
       "      <td>cochin</td>\n",
       "      <td>14:40</td>\n",
       "    </tr>\n",
       "    <tr>\n",
       "      <th>1486</th>\n",
       "      <td>IndiGo</td>\n",
       "      <td>0</td>\n",
       "      <td>195</td>\n",
       "      <td>6015</td>\n",
       "      <td>9/06/2019</td>\n",
       "      <td>delhi</td>\n",
       "      <td>cochin</td>\n",
       "      <td>21:05</td>\n",
       "    </tr>\n",
       "    <tr>\n",
       "      <th>3218</th>\n",
       "      <td>IndiGo</td>\n",
       "      <td>0</td>\n",
       "      <td>195</td>\n",
       "      <td>5601</td>\n",
       "      <td>9/06/2019</td>\n",
       "      <td>delhi</td>\n",
       "      <td>cochin</td>\n",
       "      <td>05:35</td>\n",
       "    </tr>\n",
       "    <tr>\n",
       "      <th>3360</th>\n",
       "      <td>IndiGo</td>\n",
       "      <td>1</td>\n",
       "      <td>275</td>\n",
       "      <td>5054</td>\n",
       "      <td>9/06/2019</td>\n",
       "      <td>delhi</td>\n",
       "      <td>cochin</td>\n",
       "      <td>07:35</td>\n",
       "    </tr>\n",
       "    <tr>\n",
       "      <th>6713</th>\n",
       "      <td>SpiceJet</td>\n",
       "      <td>1</td>\n",
       "      <td>270</td>\n",
       "      <td>5158</td>\n",
       "      <td>9/06/2019</td>\n",
       "      <td>delhi</td>\n",
       "      <td>cochin</td>\n",
       "      <td>08:45</td>\n",
       "    </tr>\n",
       "    <tr>\n",
       "      <th>8886</th>\n",
       "      <td>GoAir</td>\n",
       "      <td>1</td>\n",
       "      <td>460</td>\n",
       "      <td>5199</td>\n",
       "      <td>9/06/2019</td>\n",
       "      <td>delhi</td>\n",
       "      <td>cochin</td>\n",
       "      <td>05:55</td>\n",
       "    </tr>\n",
       "    <tr>\n",
       "      <th>9202</th>\n",
       "      <td>SpiceJet</td>\n",
       "      <td>1</td>\n",
       "      <td>270</td>\n",
       "      <td>5264</td>\n",
       "      <td>9/06/2019</td>\n",
       "      <td>delhi</td>\n",
       "      <td>cochin</td>\n",
       "      <td>08:45</td>\n",
       "    </tr>\n",
       "    <tr>\n",
       "      <th>5184</th>\n",
       "      <td>GoAir</td>\n",
       "      <td>1</td>\n",
       "      <td>540</td>\n",
       "      <td>5281</td>\n",
       "      <td>9/06/2019</td>\n",
       "      <td>delhi</td>\n",
       "      <td>cochin</td>\n",
       "      <td>10:35</td>\n",
       "    </tr>\n",
       "  </tbody>\n",
       "</table>\n",
       "</div>"
      ],
      "text/plain": [
       "     Air_Service Layover Time_span  Cost Flight_Date  Start    Stop  \\\n",
       "6152   Air India       0       180  6094   9/06/2019  delhi  cochin   \n",
       "6414   Air India       0       185  8456   9/06/2019  delhi  cochin   \n",
       "8687     Vistara       0       190  6216   9/06/2019  delhi  cochin   \n",
       "1486      IndiGo       0       195  6015   9/06/2019  delhi  cochin   \n",
       "3218      IndiGo       0       195  5601   9/06/2019  delhi  cochin   \n",
       "3360      IndiGo       1       275  5054   9/06/2019  delhi  cochin   \n",
       "6713    SpiceJet       1       270  5158   9/06/2019  delhi  cochin   \n",
       "8886       GoAir       1       460  5199   9/06/2019  delhi  cochin   \n",
       "9202    SpiceJet       1       270  5264   9/06/2019  delhi  cochin   \n",
       "5184       GoAir       1       540  5281   9/06/2019  delhi  cochin   \n",
       "\n",
       "     Take_off_time  \n",
       "6152         14:10  \n",
       "6414         18:05  \n",
       "8687         14:40  \n",
       "1486         21:05  \n",
       "3218         05:35  \n",
       "3360         07:35  \n",
       "6713         08:45  \n",
       "8886         05:55  \n",
       "9202         08:45  \n",
       "5184         10:35  "
      ]
     },
     "execution_count": 251,
     "metadata": {},
     "output_type": "execute_result"
    }
   ],
   "source": [
    "df5"
   ]
  },
  {
   "cell_type": "code",
   "execution_count": null,
   "metadata": {},
   "outputs": [],
   "source": [
    "%matplotlib inline"
   ]
  },
  {
   "cell_type": "markdown",
   "metadata": {},
   "source": [
    "##Line Charts/Histograms -frequency of values"
   ]
  },
  {
   "cell_type": "code",
   "execution_count": 252,
   "metadata": {},
   "outputs": [
    {
     "data": {
      "text/plain": [
       "<matplotlib.axes._subplots.AxesSubplot at 0x191c6850>"
      ]
     },
     "execution_count": 252,
     "metadata": {},
     "output_type": "execute_result"
    },
    {
     "data": {
      "image/png": "[encoded data removed]",
      "text/plain": [
       "<Figure size 432x288 with 1 Axes>"
      ]
     },
     "metadata": {
      "needs_background": "light"
     },
     "output_type": "display_data"
    }
   ],
   "source": [
    "df3.groupby('Time_span').count().plot()\n"
   ]
  },
  {
   "cell_type": "code",
   "execution_count": 234,
   "metadata": {},
   "outputs": [
    {
     "data": {
      "text/plain": [
       "<matplotlib.axes._subplots.AxesSubplot at 0x15b054f0>"
      ]
     },
     "execution_count": 234,
     "metadata": {},
     "output_type": "execute_result"
    },
    {
     "data": {
      "image/png": "[encoded data removed]",
      "text/plain": [
       "<Figure size 432x288 with 1 Axes>"
      ]
     },
     "metadata": {
      "needs_background": "light"
     },
     "output_type": "display_data"
    }
   ],
   "source": [
    "df3.groupby('Cost').count().plot()"
   ]
  },
  {
   "cell_type": "code",
   "execution_count": 235,
   "metadata": {},
   "outputs": [
    {
     "data": {
      "text/plain": [
       "<matplotlib.axes._subplots.AxesSubplot at 0x17df22b0>"
      ]
     },
     "execution_count": 235,
     "metadata": {},
     "output_type": "execute_result"
    },
    {
     "data": {
      "image/png": "[encoded data removed]",
      "text/plain": [
       "<Figure size 432x288 with 1 Axes>"
      ]
     },
     "metadata": {
      "needs_background": "light"
     },
     "output_type": "display_data"
    }
   ],
   "source": [
    "df3.groupby('Layover').count().plot()"
   ]
  },
  {
   "cell_type": "code",
   "execution_count": 236,
   "metadata": {},
   "outputs": [
    {
     "data": {
      "text/plain": [
       "array([[<matplotlib.axes._subplots.AxesSubplot object at 0x17EFB9E8>]],\n",
       "      dtype=object)"
      ]
     },
     "execution_count": 236,
     "metadata": {},
     "output_type": "execute_result"
    },
    {
     "data": {
      "image/png": "[encoded data removed]",
      "text/plain": [
       "<Figure size 432x288 with 1 Axes>"
      ]
     },
     "metadata": {
      "needs_background": "light"
     },
     "output_type": "display_data"
    }
   ],
   "source": [
    "df3.hist(bins=20)"
   ]
  },
  {
   "cell_type": "markdown",
   "metadata": {},
   "source": [
    "##Bar Charts/Histogramsfor Test Data - (Cost has all unique vaues)"
   ]
  },
  {
   "cell_type": "code",
   "execution_count": 237,
   "metadata": {},
   "outputs": [
    {
     "data": {
      "text/plain": [
       "<matplotlib.axes._subplots.AxesSubplot at 0x17f2e178>"
      ]
     },
     "execution_count": 237,
     "metadata": {},
     "output_type": "execute_result"
    },
    {
     "data": {
      "image/png": "[encoded data removed]",
      "text/plain": [
       "<Figure size 432x288 with 1 Axes>"
      ]
     },
     "metadata": {
      "needs_background": "light"
     },
     "output_type": "display_data"
    }
   ],
   "source": [
    "df5.groupby('Time_span').count().plot.bar()"
   ]
  },
  {
   "cell_type": "code",
   "execution_count": 142,
   "metadata": {
    "scrolled": true
   },
   "outputs": [
    {
     "data": {
      "text/plain": [
       "<matplotlib.axes._subplots.AxesSubplot at 0x11db86a0>"
      ]
     },
     "execution_count": 142,
     "metadata": {},
     "output_type": "execute_result"
    },
    {
     "data": {
      "image/png": "[encoded data removed]",
      "text/plain": [
       "<Figure size 432x288 with 1 Axes>"
      ]
     },
     "metadata": {
      "needs_background": "light"
     },
     "output_type": "display_data"
    }
   ],
   "source": [
    "df5.groupby('Cost').count().plot.bar()"
   ]
  },
  {
   "cell_type": "code",
   "execution_count": 253,
   "metadata": {},
   "outputs": [
    {
     "data": {
      "text/plain": [
       "<matplotlib.axes._subplots.AxesSubplot at 0x19217358>"
      ]
     },
     "execution_count": 253,
     "metadata": {},
     "output_type": "execute_result"
    },
    {
     "data": {
      "image/png": "[encoded data removed]",
      "text/plain": [
       "<Figure size 432x288 with 1 Axes>"
      ]
     },
     "metadata": {
      "needs_background": "light"
     },
     "output_type": "display_data"
    }
   ],
   "source": [
    "df5.groupby('Layover').count().plot.bar()\n"
   ]
  },
  {
   "cell_type": "code",
   "execution_count": 239,
   "metadata": {},
   "outputs": [
    {
     "data": {
      "text/plain": [
       "array([[<matplotlib.axes._subplots.AxesSubplot object at 0x1803C0A0>]],\n",
       "      dtype=object)"
      ]
     },
     "execution_count": 239,
     "metadata": {},
     "output_type": "execute_result"
    },
    {
     "data": {
      "image/png": "[encoded data removed]",
      "text/plain": [
       "<Figure size 432x288 with 1 Axes>"
      ]
     },
     "metadata": {
      "needs_background": "light"
     },
     "output_type": "display_data"
    }
   ],
   "source": [
    "df5.hist(bins=20)\n"
   ]
  },
  {
   "cell_type": "code",
   "execution_count": 192,
   "metadata": {},
   "outputs": [
    {
     "data": {
      "text/plain": [
       "<matplotlib.axes._subplots.AxesSubplot at 0x156cdd18>"
      ]
     },
     "execution_count": 192,
     "metadata": {},
     "output_type": "execute_result"
    },
    {
     "data": {
      "image/png": "[encoded data removed]",
      "text/plain": [
       "<Figure size 432x288 with 1 Axes>"
      ]
     },
     "metadata": {
      "needs_background": "light"
     },
     "output_type": "display_data"
    }
   ],
   "source": [
    "df5['Time_span'].hist(bins=20)"
   ]
  },
  {
   "cell_type": "code",
   "execution_count": 240,
   "metadata": {},
   "outputs": [
    {
     "data": {
      "text/plain": [
       "<matplotlib.axes._subplots.AxesSubplot at 0x18095cd0>"
      ]
     },
     "execution_count": 240,
     "metadata": {},
     "output_type": "execute_result"
    },
    {
     "data": {
      "image/png": "[encoded data removed]",
      "text/plain": [
       "<Figure size 432x288 with 1 Axes>"
      ]
     },
     "metadata": {
      "needs_background": "light"
     },
     "output_type": "display_data"
    }
   ],
   "source": [
    "df5.plot.hist(bins=30)"
   ]
  },
  {
   "cell_type": "markdown",
   "metadata": {},
   "source": [
    "## The test data can now be used for ML model"
   ]
  },
  {
   "cell_type": "markdown",
   "metadata": {},
   "source": [
    "## Feasibility Forecast"
   ]
  },
  {
   "cell_type": "code",
   "execution_count": null,
   "metadata": {},
   "outputs": [],
   "source": [
    "import seaborn as sns"
   ]
  },
  {
   "cell_type": "markdown",
   "metadata": {},
   "source": [
    "##We can observe that cost and time span are inversely related, shorter the time, greater is the price(for the max/min case), there do exist a few options that are both of short duration and moderate price."
   ]
  },
  {
   "cell_type": "code",
   "execution_count": 255,
   "metadata": {},
   "outputs": [
    {
     "data": {
      "text/plain": [
       "<seaborn.axisgrid.FacetGrid at 0x13e554f0>"
      ]
     },
     "execution_count": 255,
     "metadata": {},
     "output_type": "execute_result"
    },
    {
     "data": {
      "image/png": "[encoded data removed]",
      "text/plain": [
       "<Figure size 360x360 with 1 Axes>"
      ]
     },
     "metadata": {
      "needs_background": "light"
     },
     "output_type": "display_data"
    }
   ],
   "source": [
    "sns.relplot(x='Cost',y='Time_span',data=df5)"
   ]
  },
  {
   "cell_type": "code",
   "execution_count": 256,
   "metadata": {},
   "outputs": [
    {
     "data": {
      "text/plain": [
       "<seaborn.axisgrid.FacetGrid at 0x4c4fe98>"
      ]
     },
     "execution_count": 256,
     "metadata": {},
     "output_type": "execute_result"
    },
    {
     "data": {
      "image/png": "[encoded data removed]",
      "text/plain": [
       "<Figure size 360x360 with 1 Axes>"
      ]
     },
     "metadata": {
      "needs_background": "light"
     },
     "output_type": "display_data"
    }
   ],
   "source": [
    "sns.relplot(x='Layover',y='Time_span',data=df5)"
   ]
  },
  {
   "cell_type": "markdown",
   "metadata": {},
   "source": [
    "##We can see that the least time is taken when there is no layover and most when max layover."
   ]
  },
  {
   "cell_type": "markdown",
   "metadata": {},
   "source": [
    "##Let's see if layover affects the cost of the flight in any way"
   ]
  },
  {
   "cell_type": "code",
   "execution_count": 257,
   "metadata": {},
   "outputs": [
    {
     "data": {
      "text/plain": [
       "<seaborn.axisgrid.FacetGrid at 0x4c90da8>"
      ]
     },
     "execution_count": 257,
     "metadata": {},
     "output_type": "execute_result"
    },
    {
     "data": {
      "image/png": "[encoded data removed]",
      "text/plain": [
       "<Figure size 360x360 with 1 Axes>"
      ]
     },
     "metadata": {
      "needs_background": "light"
     },
     "output_type": "display_data"
    }
   ],
   "source": [
    "sns.relplot(x='Layover',y='Cost',data=df5)"
   ]
  },
  {
   "cell_type": "markdown",
   "metadata": {},
   "source": [
    "##Flight cost also depends on departure time, let us verify"
   ]
  },
  {
   "cell_type": "code",
   "execution_count": 261,
   "metadata": {},
   "outputs": [
    {
     "data": {
      "text/plain": [
       "<seaborn.axisgrid.FacetGrid at 0x14161ef8>"
      ]
     },
     "execution_count": 261,
     "metadata": {},
     "output_type": "execute_result"
    },
    {
     "data": {
      "image/png": "[encoded data removed]",
      "text/plain": [
       "<Figure size 360x360 with 1 Axes>"
      ]
     },
     "metadata": {
      "needs_background": "light"
     },
     "output_type": "display_data"
    }
   ],
   "source": [
    "df5['Dep_Hour'] = df5['Take_off_time'].str.extract('(\\d+)', expand=False).astype(int)\n",
    "sns.relplot(x='Dep_Hour',y='Cost',data=df5)"
   ]
  },
  {
   "cell_type": "markdown",
   "metadata": {},
   "source": [
    "##Flights in the morning tend to be cheaper than the ones in the evening"
   ]
  },
  {
   "cell_type": "markdown",
   "metadata": {},
   "source": [
    "##All in all, we can see that morning flights with longer duration, more stops are cost-efficient"
   ]
  },
  {
   "cell_type": "markdown",
   "metadata": {},
   "source": [
    "## Predictive Analysis"
   ]
  },
  {
   "cell_type": "code",
   "execution_count": 262,
   "metadata": {},
   "outputs": [],
   "source": [
    "from sklearn.linear_model import LinearRegression\n",
    "from sklearn.model_selection import train_test_split"
   ]
  },
  {
   "cell_type": "code",
   "execution_count": 268,
   "metadata": {},
   "outputs": [],
   "source": [
    "train=df5.drop(['Start','Stop','Take_off_time','Air_Service','Flight_Date'], axis=1)\n",
    "test=df5['Cost']"
   ]
  },
  {
   "cell_type": "code",
   "execution_count": 293,
   "metadata": {},
   "outputs": [],
   "source": [
    "X_train,X_test,y_train,y_test=train_test_split(train,test,test_size=0.7,random_state=2)"
   ]
  },
  {
   "cell_type": "code",
   "execution_count": 294,
   "metadata": {},
   "outputs": [],
   "source": [
    "regr=LinearRegression()"
   ]
  },
  {
   "cell_type": "code",
   "execution_count": 295,
   "metadata": {},
   "outputs": [
    {
     "data": {
      "text/plain": [
       "LinearRegression()"
      ]
     },
     "execution_count": 295,
     "metadata": {},
     "output_type": "execute_result"
    }
   ],
   "source": [
    "regr.fit(X_train,y_train)"
   ]
  },
  {
   "cell_type": "code",
   "execution_count": 296,
   "metadata": {},
   "outputs": [],
   "source": [
    "pred=regr.predict(X_test)"
   ]
  },
  {
   "cell_type": "code",
   "execution_count": 297,
   "metadata": {},
   "outputs": [
    {
     "data": {
      "text/plain": [
       "array([5601., 8456., 5054., 6094., 5199., 6216., 6015.])"
      ]
     },
     "execution_count": 297,
     "metadata": {},
     "output_type": "execute_result"
    }
   ],
   "source": [
    "pred"
   ]
  },
  {
   "cell_type": "code",
   "execution_count": 298,
   "metadata": {},
   "outputs": [
    {
     "data": {
      "text/plain": [
       "1.0"
      ]
     },
     "execution_count": 298,
     "metadata": {},
     "output_type": "execute_result"
    }
   ],
   "source": [
    "regr.score(X_test,y_test)"
   ]
  },
  {
   "cell_type": "code",
   "execution_count": 299,
   "metadata": {},
   "outputs": [
    {
     "name": "stdout",
     "output_type": "stream",
     "text": [
      "9.094947017729282e-13\n"
     ]
    }
   ],
   "source": [
    "print(regr.intercept_)"
   ]
  },
  {
   "cell_type": "code",
   "execution_count": 300,
   "metadata": {},
   "outputs": [
    {
     "name": "stdout",
     "output_type": "stream",
     "text": [
      "[-3.33066907e-16 -8.15102064e-17  1.00000000e+00 -1.29914348e-17]\n"
     ]
    }
   ],
   "source": [
    "print(regr.coef_)"
   ]
  },
  {
   "cell_type": "code",
   "execution_count": null,
   "metadata": {},
   "outputs": [],
   "source": []
  }
 ],
 "metadata": {
  "kernelspec": {
   "display_name": "Python 3",
   "language": "python",
   "name": "python3"
  },
  "language_info": {
   "codemirror_mode": {
    "name": "ipython",
    "version": 3
   },
   "file_extension": ".py",
   "mimetype": "text/x-python",
   "name": "python",
   "nbconvert_exporter": "python",
   "pygments_lexer": "ipython3",
   "version": "3.8.3"
  }
 },
 "nbformat": 4,
 "nbformat_minor": 4
}
